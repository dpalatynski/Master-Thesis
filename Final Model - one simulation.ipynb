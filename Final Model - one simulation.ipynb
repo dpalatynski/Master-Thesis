{
 "cells": [
  {
   "cell_type": "markdown",
   "id": "d3385dab",
   "metadata": {},
   "source": [
    "<p style=\"font-size:30px\"><b> Final Model - Weighted majority model </b></p>\n",
    "\n",
    "<p style=\"font-size:15px\"><b> <font color=\"green\"> Estimation of one Monte Carlo simulation </font></b> - it was required to estimate the total time of simulation (for 50 Monte Carlo steps) using the final size of networks (number of nodes more than 10k). Due to the computational time, all simulations were made by HPC cluster BEM.</p>\n",
    " \n",
    "<p style=\"font-size:20px\">The main assumptions of this model are following:</p>\n",
    "<ol>\n",
    "    <li>\n",
    "        There are four graphs, which represents interactions in society: \n",
    "        <ul>\n",
    "            <li><b>G</b> - rectangular neighbourhood network</li>\n",
    "            <li><b>K</b> - social interactions network</li>\n",
    "            <li><b>K_temp</b> - temporary social interactions network (generates for each iteration)</li>\n",
    "            <li><b>L</b> - social media network (social media are for or against EV - it changes in each iteration)</li>\n",
    "        </ul>\n",
    "    </li>\n",
    "    <li>\n",
    "        There are two different possibilities in opinions:\n",
    "        <ul>\n",
    "            <li><b>1</b> - agent is against EV</li>\n",
    "            <li><b>-1</b> - agent is for EV</li>\n",
    "        </ul>\n",
    "    </li>\n",
    "    <li>\n",
    "        At the beginning there are agents with different opinions (based on real number of EV)\n",
    "    </li>\n",
    "    <li>\n",
    "        There are two possibilities of changing opinion by agents:\n",
    "        <ul>\n",
    "            <li><b>independent flip</b> - with a given probability $p$ agent changes its opinions independently</li>\n",
    "            <li><b>conformity flip</b> - if value of neighbours opinion is higher than zero, it becomes against electric vehicles, otherwise it is for electric vehicles. Value of neighbours opinion is a sum of opinions of q randmoly chosen neighbours from every considered network multiplied by coefficient of weight for every network </li>\n",
    "        </ul>\n",
    "</ol>"
   ]
  },
  {
   "cell_type": "code",
   "execution_count": 1,
   "id": "3d7c949b",
   "metadata": {},
   "outputs": [],
   "source": [
    "import networkx as nx\n",
    "import matplotlib.pyplot as plt\n",
    "import numpy as np\n",
    "import random\n",
    "from tqdm import trange\n",
    "import pickle"
   ]
  },
  {
   "cell_type": "code",
   "execution_count": 2,
   "id": "4570f6ca",
   "metadata": {},
   "outputs": [],
   "source": [
    "def spinson_independent_flip(opinions, spinson):\n",
    "    opinions[spinson] = -1 if opinions[spinson] == 1 else 1\n",
    "\n",
    "    return opinions"
   ]
  },
  {
   "cell_type": "code",
   "execution_count": 3,
   "id": "51bf3f1d",
   "metadata": {},
   "outputs": [],
   "source": [
    "def spinson_conformity_flip(graphs, opinions, spinson, q, coefficients):\n",
    "    neighbours_opinion = 0\n",
    "    for i in range(len(graphs)):\n",
    "        if len(list(graphs[i].neighbors(spinson))) < q:\n",
    "            neighbours = list(graphs[i].neighbors(spinson))\n",
    "        else:\n",
    "            neighbours = random.sample(list(graphs[i].neighbors(spinson)), q)\n",
    "        if len(neighbours) != 0:\n",
    "            neighbours_opinions = [opinions[neighbour] for neighbour in neighbours]\n",
    "            neighbours_opinion += coefficients[i]*sum(neighbours_opinions)/len(neighbours)\n",
    "    if neighbours_opinion > 0:\n",
    "        opinions[spinson] = 1\n",
    "    elif neighbours_opinion < 0:\n",
    "        opinions[spinson] = -1\n",
    "\n",
    "    return opinions"
   ]
  },
  {
   "cell_type": "code",
   "execution_count": 4,
   "id": "28bb830d",
   "metadata": {},
   "outputs": [],
   "source": [
    "def q_voter_simulation(graphs, p, q, iterations, coefficients, h):\n",
    "    magnetization = []\n",
    "\n",
    "    opinions = [1] * len(graphs[0])\n",
    "    while opinions.count(-1) < 15:  # agents have different opinions at the beginning of simulation\n",
    "        opinions[random.randint(0, len(graphs[0]) - 1)] = -1\n",
    "\n",
    "    social_media_opinion = [1]\n",
    "    opinions = opinions + social_media_opinion\n",
    "\n",
    "    magnetization.append(sum(opinions[:-1]) / len(graphs[0]))\n",
    "    for i in trange(iterations):\n",
    "        # in every iteration graph of temporary interactions and opinion of social media is changing\n",
    "        graphs[-2] = nx.fast_gnp_random_graph(len(graphs[0].nodes()), random.uniform(0.0001, 0.001))\n",
    "        if random.random() < h:  # social media influence change opinion\n",
    "            opinions[-1] = -1\n",
    "        else:\n",
    "            opinions[-1] = 1\n",
    "        # choosing neighbours\n",
    "        for i in range(len(graphs[0])):\n",
    "            spinson = random.choice(list(graphs[0].nodes()))  # chooses one random node\n",
    "            if random.random() < p:  # does it act independently?\n",
    "                if random.random() < 0.5:  # the same probability to change opinion\n",
    "                    opinions = spinson_independent_flip(opinions, spinson)\n",
    "            else:\n",
    "                opinions = spinson_conformity_flip(graphs, opinions, spinson, q, coefficients)\n",
    "\n",
    "        magnetization.append(sum(opinions[:-1]) / len(graphs[0]))\n",
    "\n",
    "    return magnetization"
   ]
  },
  {
   "cell_type": "code",
   "execution_count": 5,
   "id": "0729f0f6",
   "metadata": {},
   "outputs": [],
   "source": [
    "def calculate_magnetization(graphs, p, q, mc, iterations, coefficients, h):\n",
    "    magnetization = np.zeros(iterations+1)\n",
    "    for i in range(mc):    \n",
    "        magnetization = magnetization + q_voter_simulation(graphs, p, q, iterations, coefficients, h)\n",
    "    magnetization = magnetization/mc\n",
    "                    \n",
    "    return magnetization"
   ]
  },
  {
   "cell_type": "markdown",
   "id": "d1c3d694",
   "metadata": {},
   "source": [
    "## Loading saved"
   ]
  },
  {
   "cell_type": "code",
   "execution_count": 6,
   "id": "3540f7dd",
   "metadata": {},
   "outputs": [],
   "source": [
    "G = nx.read_gpickle('network_neighbourhood.pickle')\n",
    "K = nx.read_gpickle('social_neighbourhood.pickle')\n",
    "L = nx.read_gpickle('social_media.pickle')"
   ]
  },
  {
   "cell_type": "markdown",
   "id": "ab451c35",
   "metadata": {},
   "source": [
    "# Simulations"
   ]
  },
  {
   "cell_type": "markdown",
   "id": "12850b1a",
   "metadata": {},
   "source": [
    "## Magnetization for single parameters"
   ]
  },
  {
   "cell_type": "code",
   "execution_count": 7,
   "id": "00194d73",
   "metadata": {},
   "outputs": [],
   "source": [
    "graphs = [G, K, None, L]\n",
    "p = 0.05\n",
    "h = 0.5\n",
    "q = 4\n",
    "mc = 1\n",
    "iterations = 120\n",
    "coefficients = [0.25, 0.25, 0.25, 0.25]"
   ]
  },
  {
   "cell_type": "code",
   "execution_count": 8,
   "id": "c7601654",
   "metadata": {},
   "outputs": [
    {
     "name": "stderr",
     "output_type": "stream",
     "text": [
      "100%|████████████████████████████████████████████████████████████████████████████████| 120/120 [06:23<00:00,  3.19s/it]\n"
     ]
    }
   ],
   "source": [
    "magnetizations = []\n",
    "x = calculate_magnetization(graphs, p, q, mc, iterations, coefficients, h)\n",
    "magnetizations.append(x)"
   ]
  },
  {
   "cell_type": "code",
   "execution_count": 9,
   "id": "875c886f",
   "metadata": {},
   "outputs": [
    {
     "data": {
      "text/plain": [
       "<matplotlib.legend.Legend at 0x19cb925f7c0>"
      ]
     },
     "execution_count": 9,
     "metadata": {},
     "output_type": "execute_result"
    },
    {
     "data": {
      "image/png": "[encoded data removed]",
      "text/plain": [
       "<Figure size 1152x648 with 1 Axes>"
      ]
     },
     "metadata": {
      "needs_background": "light"
     },
     "output_type": "display_data"
    }
   ],
   "source": [
    "plt.figure(figsize=(16, 9))\n",
    "for i, magnetization in enumerate(magnetizations):\n",
    "    plt.plot(range(0, len(magnetization)), magnetization, label=f'single parameters')\n",
    "plt.ylim(-1, 1)\n",
    "plt.xticks(fontsize=15)\n",
    "plt.yticks(fontsize=15)\n",
    "plt.xlabel('Time', fontsize=20)\n",
    "plt.ylabel('Magnetization', fontsize=20)\n",
    "plt.title(f'Magnetization in time for p = {p}', fontsize=25)\n",
    "plt.grid()\n",
    "plt.legend(prop={'size': 15})"
   ]
  },
  {
   "cell_type": "code",
   "execution_count": null,
   "id": "8260020c",
   "metadata": {},
   "outputs": [],
   "source": []
  }
 ],
 "metadata": {
  "kernelspec": {
   "display_name": "Python 3 (ipykernel)",
   "language": "python",
   "name": "python3"
  },
  "language_info": {
   "codemirror_mode": {
    "name": "ipython",
    "version": 3
   },
   "file_extension": ".py",
   "mimetype": "text/x-python",
   "name": "python",
   "nbconvert_exporter": "python",
   "pygments_lexer": "ipython3",
   "version": "3.9.10"
  }
 },
 "nbformat": 4,
 "nbformat_minor": 5
}
