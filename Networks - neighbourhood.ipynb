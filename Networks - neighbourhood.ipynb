{
 "cells": [
  {
   "cell_type": "code",
   "execution_count": 1,
   "id": "87f9774d",
   "metadata": {},
   "outputs": [],
   "source": [
    "import matplotlib.pyplot as plt\n",
    "import networkx as nx\n",
    "import pickle\n",
    "import math\n",
    "import random"
   ]
  },
  {
   "cell_type": "code",
   "execution_count": 2,
   "id": "babf0f65",
   "metadata": {},
   "outputs": [],
   "source": [
    "# Coordinates of boundaries of area of Lower Silesian Voivodeship\n",
    "\n",
    "NORTH = 51.8047222\n",
    "EAST = 14.8172222\n",
    "SOUTH = 50.0961111\n",
    "WEST = 17.795\n",
    "\n",
    "# Population\n",
    "POPULATION = 2901200\n",
    "DEGREE_URBANIZATION = 0.606\n",
    "RATIO_WITH_SALARY_MORE_10K = 0.062\n",
    "NUMBER_OF_HOUSEHOLDS = int(RATIO_WITH_SALARY_MORE_10K * DEGREE_URBANIZATION * POPULATION)\n",
    "\n",
    "# Due to restricted computational power one agent describes 10 people\n",
    "NUMBER_OF_HOUSEHOLDS = int(NUMBER_OF_HOUSEHOLDS/10)\n",
    "\n",
    "# Rectangular network:\n",
    "HEIGHT = NORTH - SOUTH\n",
    "WIDTH = WEST - EAST\n",
    "NUMBER_OF_POINTS = NUMBER_OF_HOUSEHOLDS\n",
    "\n",
    "NUMBER_OF_NODES_HEIGHT = int(math.sqrt(HEIGHT/WIDTH * NUMBER_OF_POINTS))\n",
    "NUMBER_OF_NODES_WIDTH = int(NUMBER_OF_POINTS/NUMBER_OF_NODES_HEIGHT)\n",
    "\n",
    "LENGTH_HEIGHT = HEIGHT/NUMBER_OF_NODES_HEIGHT\n",
    "LENGTH_WIDTH = WIDTH/NUMBER_OF_NODES_WIDTH"
   ]
  },
  {
   "cell_type": "markdown",
   "id": "463ab7ff",
   "metadata": {},
   "source": [
    "#### Number of agents (households)"
   ]
  },
  {
   "cell_type": "code",
   "execution_count": 3,
   "id": "cb6ccdf9",
   "metadata": {},
   "outputs": [
    {
     "data": {
      "text/plain": [
       "10900"
      ]
     },
     "execution_count": 3,
     "metadata": {},
     "output_type": "execute_result"
    }
   ],
   "source": [
    "NUMBER_OF_HOUSEHOLDS"
   ]
  },
  {
   "cell_type": "markdown",
   "id": "00dbefa1",
   "metadata": {},
   "source": [
    "## Rectangular network as neighbourhood"
   ]
  },
  {
   "cell_type": "code",
   "execution_count": 4,
   "id": "cad4fcfe",
   "metadata": {},
   "outputs": [],
   "source": [
    "COORDINATES = []\n",
    "for y in range(NUMBER_OF_NODES_HEIGHT):\n",
    "    for x in range(NUMBER_OF_NODES_WIDTH):\n",
    "        COORDINATES.append((x*LENGTH_WIDTH, y*LENGTH_HEIGHT))\n",
    "        \n",
    "X_COORDINATES = [x[0] for x in COORDINATES]\n",
    "Y_COORDINATES = [x[1] for x in COORDINATES]"
   ]
  },
  {
   "cell_type": "code",
   "execution_count": 5,
   "id": "a25862a5",
   "metadata": {},
   "outputs": [
    {
     "data": {
      "image/png": "[encoded data removed]",
      "text/plain": [
       "<Figure size 1152x648 with 1 Axes>"
      ]
     },
     "metadata": {
      "needs_background": "light"
     },
     "output_type": "display_data"
    }
   ],
   "source": [
    "plt.figure(figsize=(16, 9))\n",
    "plt.grid()\n",
    "plt.xticks(fontsize=20)\n",
    "plt.yticks(fontsize=20)\n",
    "plt.plot(X_COORDINATES, Y_COORDINATES, '.', markersize=2)\n",
    "plt.show()"
   ]
  },
  {
   "cell_type": "code",
   "execution_count": 6,
   "id": "567b519f",
   "metadata": {
    "scrolled": false
   },
   "outputs": [],
   "source": [
    "G = nx.grid_2d_graph(NUMBER_OF_NODES_HEIGHT, NUMBER_OF_NODES_WIDTH)\n",
    "G = nx.convert_node_labels_to_integers(G)"
   ]
  },
  {
   "cell_type": "code",
   "execution_count": 7,
   "id": "83653335",
   "metadata": {},
   "outputs": [],
   "source": [
    "pos = {}\n",
    "for i, node in enumerate(G.nodes()):\n",
    "    pos[node] = COORDINATES[i]"
   ]
  },
  {
   "cell_type": "code",
   "execution_count": 8,
   "id": "144b8373",
   "metadata": {},
   "outputs": [],
   "source": [
    "NUMBER_OF_NODES = NUMBER_OF_NODES_HEIGHT*NUMBER_OF_NODES_WIDTH"
   ]
  },
  {
   "cell_type": "code",
   "execution_count": 9,
   "id": "6ac9c262",
   "metadata": {},
   "outputs": [
    {
     "data": {
      "text/plain": [
       "(79, 137)"
      ]
     },
     "execution_count": 9,
     "metadata": {},
     "output_type": "execute_result"
    }
   ],
   "source": [
    "NUMBER_OF_NODES_HEIGHT, NUMBER_OF_NODES_WIDTH"
   ]
  },
  {
   "cell_type": "code",
   "execution_count": 10,
   "id": "21377ad2",
   "metadata": {},
   "outputs": [
    {
     "data": {
      "text/plain": [
       "10823"
      ]
     },
     "execution_count": 10,
     "metadata": {},
     "output_type": "execute_result"
    }
   ],
   "source": [
    "NUMBER_OF_NODES"
   ]
  },
  {
   "cell_type": "markdown",
   "id": "85e8f46a",
   "metadata": {},
   "source": [
    "## Number of electric vehicles"
   ]
  },
  {
   "cell_type": "code",
   "execution_count": 11,
   "id": "704b649b",
   "metadata": {},
   "outputs": [],
   "source": [
    "NUMBER_OF_ELECTRIC_VEHICLES_IN_POLAND = 2021\n",
    "RATIO_OF_POPULATION_IN_LOWER_SILESIAN = POPULATION/37950000\n",
    "RATIO_OF_ELECTRIC_VEHICLES = NUMBER_OF_ELECTRIC_VEHICLES_IN_POLAND*RATIO_OF_POPULATION_IN_LOWER_SILESIAN"
   ]
  },
  {
   "cell_type": "code",
   "execution_count": 12,
   "id": "76563727",
   "metadata": {},
   "outputs": [],
   "source": [
    "NUMBER_OF_ELECTRIC_VEHICLES = int(RATIO_OF_ELECTRIC_VEHICLES/10)"
   ]
  },
  {
   "cell_type": "code",
   "execution_count": 13,
   "id": "ab51bc9c",
   "metadata": {},
   "outputs": [
    {
     "data": {
      "text/plain": [
       "15"
      ]
     },
     "execution_count": 13,
     "metadata": {},
     "output_type": "execute_result"
    }
   ],
   "source": [
    "NUMBER_OF_ELECTRIC_VEHICLES"
   ]
  },
  {
   "cell_type": "markdown",
   "id": "8b988b33",
   "metadata": {},
   "source": [
    "## Social interactions"
   ]
  },
  {
   "cell_type": "code",
   "execution_count": 14,
   "id": "853142ba",
   "metadata": {},
   "outputs": [],
   "source": [
    "K = nx.barabasi_albert_graph(NUMBER_OF_NODES, 1)\n",
    "node_mapping = dict(zip(K.nodes(), sorted(K.nodes(), key=lambda k: random.random())))\n",
    "K = nx.relabel_nodes(K, node_mapping)"
   ]
  },
  {
   "cell_type": "markdown",
   "id": "1452424f",
   "metadata": {},
   "source": [
    "## Temporary connection between nodes"
   ]
  },
  {
   "cell_type": "code",
   "execution_count": 15,
   "id": "073a405c",
   "metadata": {},
   "outputs": [],
   "source": [
    "K_temp = nx.fast_gnp_random_graph(len(G.nodes()), 0.001)"
   ]
  },
  {
   "cell_type": "markdown",
   "id": "9e1a483f",
   "metadata": {},
   "source": [
    "## Social media influence\n",
    "\n",
    "Star graph and center node should be treated as \"Star\" (information from different type of media e.g. TV, Internet)"
   ]
  },
  {
   "cell_type": "code",
   "execution_count": 16,
   "id": "cf622dbc",
   "metadata": {},
   "outputs": [],
   "source": [
    "L = nx.star_graph(len(G))\n",
    "pos[len(G.nodes())] = (-0.1, -0.1)\n",
    "mapping = {0:len(G), len(G):0}\n",
    "L = nx.relabel_nodes(L, mapping)"
   ]
  },
  {
   "cell_type": "markdown",
   "id": "593ebe5c",
   "metadata": {},
   "source": [
    "## Pickle"
   ]
  },
  {
   "cell_type": "markdown",
   "id": "2bfaeb1c",
   "metadata": {},
   "source": [
    "#### Networks:"
   ]
  },
  {
   "cell_type": "code",
   "execution_count": 17,
   "id": "5d41dd00",
   "metadata": {},
   "outputs": [],
   "source": [
    "nx.write_gpickle(G, 'network_neighbourhood.pickle')\n",
    "nx.write_gpickle(K, 'social_neighbourhood.pickle')\n",
    "nx.write_gpickle(L, 'social_media.pickle')"
   ]
  },
  {
   "cell_type": "code",
   "execution_count": null,
   "id": "be6d2e5c",
   "metadata": {},
   "outputs": [],
   "source": []
  }
 ],
 "metadata": {
  "kernelspec": {
   "display_name": "Python 3 (ipykernel)",
   "language": "python",
   "name": "python3"
  },
  "language_info": {
   "codemirror_mode": {
    "name": "ipython",
    "version": 3
   },
   "file_extension": ".py",
   "mimetype": "text/x-python",
   "name": "python",
   "nbconvert_exporter": "python",
   "pygments_lexer": "ipython3",
   "version": "3.9.10"
  }
 },
 "nbformat": 4,
 "nbformat_minor": 5
}
