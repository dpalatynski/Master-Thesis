{
 "cells": [
  {
   "cell_type": "code",
   "execution_count": null,
   "id": "87f9774d",
   "metadata": {},
   "outputs": [],
   "source": [
    "import matplotlib.pyplot as plt\n",
    "import networkx as nx\n",
    "import math"
   ]
  },
  {
   "cell_type": "code",
   "execution_count": null,
   "id": "babf0f65",
   "metadata": {},
   "outputs": [],
   "source": [
    "# Coordinates of boundaries of area of Lower Silesian Voivodeship\n",
    "\n",
    "NORTH =  51.8047222\n",
    "EAST = 14.8172222\n",
    "SOUTH = 50.0961111\n",
    "WEST = 17.795\n",
    "\n",
    "# Population\n",
    "\n",
    "#POPULATION = 2898525\n",
    "POPULATION = 200\n",
    "AVERAGE_NUMBER_OF_PEOPLE_IN_ONE_HOUSEHOLD_LOWER_SILESIAN = 2.50\n",
    "NUMBER_OF_HOUSEHOLDS = int(POPULATION/AVERAGE_NUMBER_OF_PEOPLE_IN_ONE_HOUSEHOLD_LOWER_SILESIAN)\n",
    "NUMBER_OF_HOUSEHOLDS = int(5/6 * NUMBER_OF_HOUSEHOLDS)\n",
    "\n",
    "# Rectangular network:\n",
    "HEIGHT = NORTH - SOUTH\n",
    "WIDTH = WEST - EAST\n",
    "NUMBER_OF_POINTS = NUMBER_OF_HOUSEHOLDS\n",
    "\n",
    "NUMBER_OF_NODES_HEIGHT = int(math.sqrt(HEIGHT/WIDTH * NUMBER_OF_POINTS))\n",
    "NUMBER_OF_NODES_WIDTH = int(NUMBER_OF_POINTS/NUMBER_OF_NODES_HEIGHT)\n",
    "\n",
    "LENGTH_HEIGHT = HEIGHT/NUMBER_OF_NODES_HEIGHT\n",
    "LENGTH_WIDTH = WIDTH/NUMBER_OF_NODES_WIDTH"
   ]
  },
  {
   "cell_type": "markdown",
   "id": "43310b3a",
   "metadata": {},
   "source": [
    "## Rectangular network as neighbourhood"
   ]
  },
  {
   "cell_type": "code",
   "execution_count": null,
   "id": "cad4fcfe",
   "metadata": {},
   "outputs": [],
   "source": [
    "COORDINATES = []\n",
    "for y in range(NUMBER_OF_NODES_HEIGHT):\n",
    "    for x in range(NUMBER_OF_NODES_WIDTH):\n",
    "        COORDINATES.append((x*LENGTH_WIDTH, y*LENGTH_HEIGHT))\n",
    "        \n",
    "X_COORDINATES = [x[0] for x in COORDINATES]\n",
    "Y_COORDINATES = [x[1] for x in COORDINATES]"
   ]
  },
  {
   "cell_type": "code",
   "execution_count": null,
   "id": "a25862a5",
   "metadata": {},
   "outputs": [],
   "source": [
    "plt.figure(figsize=(16, 9))\n",
    "plt.grid()\n",
    "plt.xticks(fontsize=20)\n",
    "plt.yticks(fontsize=20)\n",
    "plt.plot(X_COORDINATES, Y_COORDINATES, '.', markersize=20)\n",
    "plt.show()"
   ]
  },
  {
   "cell_type": "code",
   "execution_count": null,
   "id": "567b519f",
   "metadata": {
    "scrolled": false
   },
   "outputs": [],
   "source": [
    "G = nx.grid_2d_graph(NUMBER_OF_NODES_HEIGHT, NUMBER_OF_NODES_WIDTH)\n",
    "G = nx.convert_node_labels_to_integers(G)"
   ]
  },
  {
   "cell_type": "code",
   "execution_count": null,
   "id": "2d316f9b",
   "metadata": {},
   "outputs": [],
   "source": [
    "pos = {}\n",
    "for i, node in enumerate(G.nodes()):\n",
    "    pos[node] = COORDINATES[i]"
   ]
  },
  {
   "cell_type": "code",
   "execution_count": null,
   "id": "88e26407",
   "metadata": {},
   "outputs": [],
   "source": [
    "nx.draw(G, pos=pos, with_labels=True)"
   ]
  },
  {
   "cell_type": "markdown",
   "id": "b247fcb9",
   "metadata": {},
   "source": [
    "## Social media influence\n",
    "\n",
    "Star graph and center node should be treated as \"Star\" (information from different type of media e.g. TV, Internet)"
   ]
  },
  {
   "cell_type": "code",
   "execution_count": null,
   "id": "2906e99c",
   "metadata": {},
   "outputs": [],
   "source": [
    "NUMBER_OF_NODES = NUMBER_OF_NODES_HEIGHT*NUMBER_OF_NODES_WIDTH"
   ]
  },
  {
   "cell_type": "code",
   "execution_count": null,
   "id": "cf622dbc",
   "metadata": {},
   "outputs": [],
   "source": [
    "K = nx.star_graph(NUMBER_OF_NODES)\n",
    "nx.draw(K, with_labels=True)"
   ]
  },
  {
   "cell_type": "markdown",
   "id": "5702b003",
   "metadata": {},
   "source": [
    "## Different types of graph"
   ]
  },
  {
   "cell_type": "code",
   "execution_count": null,
   "id": "135481c4",
   "metadata": {},
   "outputs": [],
   "source": [
    "L = nx.barabasi_albert_graph(NUMBER_OF_NODES, 1)\n",
    "nx.draw(L, with_labels=True)"
   ]
  },
  {
   "cell_type": "code",
   "execution_count": null,
   "id": "5e8edb03",
   "metadata": {},
   "outputs": [],
   "source": [
    "W = nx.watts_strogatz_graph(NUMBER_OF_NODES, 2, 0.1)\n",
    "nx.draw(W, with_labels=True)"
   ]
  },
  {
   "cell_type": "code",
   "execution_count": null,
   "id": "6c2ac5b2",
   "metadata": {},
   "outputs": [],
   "source": [
    "Z = nx.erdos_renyi_graph(NUMBER_OF_NODES, 0.15)\n",
    "nx.draw(Z, with_labels=True)"
   ]
  },
  {
   "cell_type": "code",
   "execution_count": null,
   "id": "b1fae172",
   "metadata": {},
   "outputs": [],
   "source": []
  }
 ],
 "metadata": {
  "kernelspec": {
   "display_name": "Python 3 (ipykernel)",
   "language": "python",
   "name": "python3"
  },
  "language_info": {
   "codemirror_mode": {
    "name": "ipython",
    "version": 3
   },
   "file_extension": ".py",
   "mimetype": "text/x-python",
   "name": "python",
   "nbconvert_exporter": "python",
   "pygments_lexer": "ipython3",
   "version": "3.9.10"
  }
 },
 "nbformat": 4,
 "nbformat_minor": 5
}
